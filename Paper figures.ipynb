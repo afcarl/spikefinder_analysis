{
 "cells": [
  {
   "cell_type": "markdown",
   "metadata": {},
   "source": [
    "# Paper figures\n",
    "\n",
    "This notebook contains all the analysis and figures for the paper."
   ]
  },
  {
   "cell_type": "code",
   "execution_count": 1,
   "metadata": {
    "collapsed": true
   },
   "outputs": [],
   "source": [
    "import pandas as pd\n",
    "import numpy as np\n",
    "import seaborn as sns\n",
    "import matplotlib.pyplot as plt\n",
    "from datetime import date\n",
    "import spikefinder_eval as se\n",
    "\n",
    "import scipy.stats as stats\n",
    "\n",
    "sns.set_style('whitegrid')\n",
    "\n",
    "import matplotlib as mpl\n",
    "mpl.rcParams['pdf.fonttype'] = 42\n",
    "\n",
    "%matplotlib inline"
   ]
  },
  {
   "cell_type": "code",
   "execution_count": 2,
   "metadata": {
    "collapsed": true
   },
   "outputs": [],
   "source": [
    "data = pd.read_csv('data/results_24_07_17.csv', \n",
    "                   usecols=['algo', 'dset', 'measure', 'split', 'value', \n",
    "                           'rel value','cell'])\n",
    "\n",
    "\n",
    "subs = pd.read_csv('data/submissions_22_06_17.csv')\n"
   ]
  },
  {
   "cell_type": "code",
   "execution_count": 3,
   "metadata": {
    "collapsed": true
   },
   "outputs": [],
   "source": [
    "subs['days'] = np.float64(subs['days']) - 24\n",
    "\n"
   ]
  },
  {
   "cell_type": "code",
   "execution_count": 4,
   "metadata": {
    "collapsed": true
   },
   "outputs": [],
   "source": [
    "data.loc[data['dset']==1,'indicator'] = 'ogb'\n",
    "data.loc[data['dset']==2,'indicator'] = 'ogb'\n",
    "data.loc[data['dset']==4,'indicator'] = 'ogb'\n",
    "data.loc[data['dset']==3,'indicator'] = 'gcamp'\n",
    "data.loc[data['dset']==5,'indicator'] = 'gcamp'"
   ]
  },
  {
   "cell_type": "code",
   "execution_count": 5,
   "metadata": {},
   "outputs": [
    {
     "data": {
      "text/html": [
       "<div>\n",
       "<style>\n",
       "    .dataframe thead tr:only-child th {\n",
       "        text-align: right;\n",
       "    }\n",
       "\n",
       "    .dataframe thead th {\n",
       "        text-align: left;\n",
       "    }\n",
       "\n",
       "    .dataframe tbody tr th {\n",
       "        vertical-align: top;\n",
       "    }\n",
       "</style>\n",
       "<table border=\"1\" class=\"dataframe\">\n",
       "  <thead>\n",
       "    <tr style=\"text-align: right;\">\n",
       "      <th></th>\n",
       "      <th>algo</th>\n",
       "      <th>cell</th>\n",
       "      <th>dset</th>\n",
       "      <th>measure</th>\n",
       "      <th>rel value</th>\n",
       "      <th>split</th>\n",
       "      <th>value</th>\n",
       "      <th>indicator</th>\n",
       "    </tr>\n",
       "  </thead>\n",
       "  <tbody>\n",
       "    <tr>\n",
       "      <th>0</th>\n",
       "      <td>stm</td>\n",
       "      <td>0</td>\n",
       "      <td>1</td>\n",
       "      <td>corr</td>\n",
       "      <td>NaN</td>\n",
       "      <td>test</td>\n",
       "      <td>0.524731</td>\n",
       "      <td>ogb</td>\n",
       "    </tr>\n",
       "    <tr>\n",
       "      <th>1</th>\n",
       "      <td>stm</td>\n",
       "      <td>1</td>\n",
       "      <td>1</td>\n",
       "      <td>corr</td>\n",
       "      <td>NaN</td>\n",
       "      <td>test</td>\n",
       "      <td>0.486117</td>\n",
       "      <td>ogb</td>\n",
       "    </tr>\n",
       "    <tr>\n",
       "      <th>2</th>\n",
       "      <td>stm</td>\n",
       "      <td>2</td>\n",
       "      <td>1</td>\n",
       "      <td>corr</td>\n",
       "      <td>NaN</td>\n",
       "      <td>test</td>\n",
       "      <td>0.454547</td>\n",
       "      <td>ogb</td>\n",
       "    </tr>\n",
       "    <tr>\n",
       "      <th>3</th>\n",
       "      <td>stm</td>\n",
       "      <td>3</td>\n",
       "      <td>1</td>\n",
       "      <td>corr</td>\n",
       "      <td>NaN</td>\n",
       "      <td>test</td>\n",
       "      <td>0.512064</td>\n",
       "      <td>ogb</td>\n",
       "    </tr>\n",
       "    <tr>\n",
       "      <th>4</th>\n",
       "      <td>stm</td>\n",
       "      <td>4</td>\n",
       "      <td>1</td>\n",
       "      <td>corr</td>\n",
       "      <td>NaN</td>\n",
       "      <td>test</td>\n",
       "      <td>0.560148</td>\n",
       "      <td>ogb</td>\n",
       "    </tr>\n",
       "    <tr>\n",
       "      <th>5</th>\n",
       "      <td>stm</td>\n",
       "      <td>0</td>\n",
       "      <td>1</td>\n",
       "      <td>corr_bits</td>\n",
       "      <td>NaN</td>\n",
       "      <td>test</td>\n",
       "      <td>0.464629</td>\n",
       "      <td>ogb</td>\n",
       "    </tr>\n",
       "    <tr>\n",
       "      <th>6</th>\n",
       "      <td>stm</td>\n",
       "      <td>1</td>\n",
       "      <td>1</td>\n",
       "      <td>corr_bits</td>\n",
       "      <td>NaN</td>\n",
       "      <td>test</td>\n",
       "      <td>0.388941</td>\n",
       "      <td>ogb</td>\n",
       "    </tr>\n",
       "    <tr>\n",
       "      <th>7</th>\n",
       "      <td>stm</td>\n",
       "      <td>2</td>\n",
       "      <td>1</td>\n",
       "      <td>corr_bits</td>\n",
       "      <td>NaN</td>\n",
       "      <td>test</td>\n",
       "      <td>0.333904</td>\n",
       "      <td>ogb</td>\n",
       "    </tr>\n",
       "    <tr>\n",
       "      <th>8</th>\n",
       "      <td>stm</td>\n",
       "      <td>3</td>\n",
       "      <td>1</td>\n",
       "      <td>corr_bits</td>\n",
       "      <td>NaN</td>\n",
       "      <td>test</td>\n",
       "      <td>0.438718</td>\n",
       "      <td>ogb</td>\n",
       "    </tr>\n",
       "    <tr>\n",
       "      <th>9</th>\n",
       "      <td>stm</td>\n",
       "      <td>4</td>\n",
       "      <td>1</td>\n",
       "      <td>corr_bits</td>\n",
       "      <td>NaN</td>\n",
       "      <td>test</td>\n",
       "      <td>0.543227</td>\n",
       "      <td>ogb</td>\n",
       "    </tr>\n",
       "  </tbody>\n",
       "</table>\n",
       "</div>"
      ],
      "text/plain": [
       "  algo  cell  dset    measure  rel value split     value indicator\n",
       "0  stm     0     1       corr        NaN  test  0.524731       ogb\n",
       "1  stm     1     1       corr        NaN  test  0.486117       ogb\n",
       "2  stm     2     1       corr        NaN  test  0.454547       ogb\n",
       "3  stm     3     1       corr        NaN  test  0.512064       ogb\n",
       "4  stm     4     1       corr        NaN  test  0.560148       ogb\n",
       "5  stm     0     1  corr_bits        NaN  test  0.464629       ogb\n",
       "6  stm     1     1  corr_bits        NaN  test  0.388941       ogb\n",
       "7  stm     2     1  corr_bits        NaN  test  0.333904       ogb\n",
       "8  stm     3     1  corr_bits        NaN  test  0.438718       ogb\n",
       "9  stm     4     1  corr_bits        NaN  test  0.543227       ogb"
      ]
     },
     "execution_count": 5,
     "metadata": {},
     "output_type": "execute_result"
    }
   ],
   "source": [
    "data.head(10)"
   ]
  },
  {
   "cell_type": "code",
   "execution_count": 6,
   "metadata": {},
   "outputs": [
    {
     "data": {
      "text/html": [
       "<div>\n",
       "<style>\n",
       "    .dataframe thead tr:only-child th {\n",
       "        text-align: right;\n",
       "    }\n",
       "\n",
       "    .dataframe thead th {\n",
       "        text-align: left;\n",
       "    }\n",
       "\n",
       "    .dataframe tbody tr th {\n",
       "        vertical-align: top;\n",
       "    }\n",
       "</style>\n",
       "<table border=\"1\" class=\"dataframe\">\n",
       "  <thead>\n",
       "    <tr style=\"text-align: right;\">\n",
       "      <th></th>\n",
       "      <th>Unnamed: 0</th>\n",
       "      <th>algo</th>\n",
       "      <th>date</th>\n",
       "      <th>days</th>\n",
       "      <th>submitter</th>\n",
       "      <th>test_mean</th>\n",
       "      <th>test_wmean</th>\n",
       "      <th>train_mean</th>\n",
       "      <th>train_wmean</th>\n",
       "      <th>delta_stm</th>\n",
       "    </tr>\n",
       "  </thead>\n",
       "  <tbody>\n",
       "    <tr>\n",
       "      <th>0</th>\n",
       "      <td>0</td>\n",
       "      <td>stm</td>\n",
       "      <td>2016-11-25 02:33:35.196</td>\n",
       "      <td>0.0</td>\n",
       "      <td>test submission</td>\n",
       "      <td>0.387497</td>\n",
       "      <td>0.388992</td>\n",
       "      <td>0.413346</td>\n",
       "      <td>0.420325</td>\n",
       "      <td>0.000000</td>\n",
       "    </tr>\n",
       "    <tr>\n",
       "      <th>1</th>\n",
       "      <td>1</td>\n",
       "      <td>oopsi</td>\n",
       "      <td>2016-11-25 02:36:37.119</td>\n",
       "      <td>0.0</td>\n",
       "      <td>test submission</td>\n",
       "      <td>0.258987</td>\n",
       "      <td>0.249635</td>\n",
       "      <td>0.318677</td>\n",
       "      <td>0.326346</td>\n",
       "      <td>-0.128510</td>\n",
       "    </tr>\n",
       "    <tr>\n",
       "      <th>2</th>\n",
       "      <td>2</td>\n",
       "      <td>derivative</td>\n",
       "      <td>2016-11-27 09:04:02.070</td>\n",
       "      <td>2.0</td>\n",
       "      <td>test submission</td>\n",
       "      <td>0.103576</td>\n",
       "      <td>0.115694</td>\n",
       "      <td>0.120749</td>\n",
       "      <td>0.123729</td>\n",
       "      <td>-0.283921</td>\n",
       "    </tr>\n",
       "    <tr>\n",
       "      <th>3</th>\n",
       "      <td>3</td>\n",
       "      <td>Suite2p</td>\n",
       "      <td>2016-12-04 19:15:26.173</td>\n",
       "      <td>9.0</td>\n",
       "      <td>marius10p</td>\n",
       "      <td>0.423142</td>\n",
       "      <td>0.428679</td>\n",
       "      <td>0.467852</td>\n",
       "      <td>0.471965</td>\n",
       "      <td>0.035645</td>\n",
       "    </tr>\n",
       "    <tr>\n",
       "      <th>4</th>\n",
       "      <td>4</td>\n",
       "      <td>Vanilla_0.0a</td>\n",
       "      <td>2017-01-31 04:10:09.410</td>\n",
       "      <td>67.0</td>\n",
       "      <td>Dario Ringach</td>\n",
       "      <td>0.422702</td>\n",
       "      <td>0.428309</td>\n",
       "      <td>0.462818</td>\n",
       "      <td>0.454570</td>\n",
       "      <td>0.035205</td>\n",
       "    </tr>\n",
       "  </tbody>\n",
       "</table>\n",
       "</div>"
      ],
      "text/plain": [
       "   Unnamed: 0          algo                     date  days        submitter  \\\n",
       "0           0           stm  2016-11-25 02:33:35.196   0.0  test submission   \n",
       "1           1         oopsi  2016-11-25 02:36:37.119   0.0  test submission   \n",
       "2           2    derivative  2016-11-27 09:04:02.070   2.0  test submission   \n",
       "3           3       Suite2p  2016-12-04 19:15:26.173   9.0        marius10p   \n",
       "4           4  Vanilla_0.0a  2017-01-31 04:10:09.410  67.0    Dario Ringach   \n",
       "\n",
       "   test_mean  test_wmean  train_mean  train_wmean  delta_stm  \n",
       "0   0.387497    0.388992    0.413346     0.420325   0.000000  \n",
       "1   0.258987    0.249635    0.318677     0.326346  -0.128510  \n",
       "2   0.103576    0.115694    0.120749     0.123729  -0.283921  \n",
       "3   0.423142    0.428679    0.467852     0.471965   0.035645  \n",
       "4   0.422702    0.428309    0.462818     0.454570   0.035205  "
      ]
     },
     "execution_count": 6,
     "metadata": {},
     "output_type": "execute_result"
    }
   ],
   "source": [
    "subs.head()"
   ]
  },
  {
   "cell_type": "markdown",
   "metadata": {},
   "source": [
    "## Figure 1\n",
    "\n"
   ]
  },
  {
   "cell_type": "markdown",
   "metadata": {},
   "source": [
    "### Submission times"
   ]
  },
  {
   "cell_type": "code",
   "execution_count": 7,
   "metadata": {},
   "outputs": [
    {
     "name": "stdout",
     "output_type": "stream",
     "text": [
      "Number of submissions:  39\n"
     ]
    },
    {
     "data": {
      "image/png": "[encoded data removed]",
      "text/plain": [
       "<matplotlib.figure.Figure at 0xb455780>"
      ]
     },
     "metadata": {},
     "output_type": "display_data"
    }
   ],
   "source": [
    "f = plt.figure(figsize=(3/2.54,6/2.54))\n",
    "\n",
    "subs2 = subs.loc[~(subs['algo'] == 'stm') & ~(subs['algo'] == 'oopsi'),:]\n",
    "\n",
    "plt.hist(subs2['days'])\n",
    "\n",
    "plt.xlabel('Days')\n",
    "plt.ylabel('Number of submissions')\n",
    "\n",
    "plt.xticks([0, 50, 100, 150])\n",
    "\n",
    "plt.xlim((0,160))\n",
    "\n",
    "sns.despine(offset=5)\n",
    "\n",
    "f.savefig('figures/fig1a_date.pdf',bbox_inches='tight')\n",
    "\n",
    "print('Number of submissions: ', subs2.shape[0])"
   ]
  },
  {
   "cell_type": "code",
   "execution_count": 8,
   "metadata": {},
   "outputs": [
    {
     "data": {
      "text/plain": [
       "array(['deneux', 'chenkov', 'speiser', 'mineault', 'rupprecht',\n",
       "       'friedrich', 'pachitariu', 'bolte', 'machado', 'ringach', 'stm',\n",
       "       'oopsi'], dtype=object)"
      ]
     },
     "execution_count": 8,
     "metadata": {},
     "output_type": "execute_result"
    }
   ],
   "source": [
    "# determine order of algorithms   \n",
    "gdata = data[data['measure']=='corr'].groupby(['algo', 'split'])['value','rel value'].mean().reset_index()\n",
    "gdata = gdata[gdata['split']=='test'].sort_values(by='value', ascending=0)\n",
    "\n",
    "order = gdata['algo'].as_matrix()\n",
    "order"
   ]
  },
  {
   "cell_type": "markdown",
   "metadata": {},
   "source": [
    "### Panel 1a: Mean correlation coefficients"
   ]
  },
  {
   "cell_type": "code",
   "execution_count": 9,
   "metadata": {},
   "outputs": [
    {
     "data": {
      "image/png": "[encoded data removed]",
      "text/plain": [
       "<matplotlib.figure.Figure at 0xb65d3c8>"
      ]
     },
     "metadata": {},
     "output_type": "display_data"
    }
   ],
   "source": [
    "\n",
    "\n",
    "f = plt.figure(figsize=(8/2.54,6.5/2.54))\n",
    "\n",
    "idx = (data['split']=='test') & (data['measure']=='corr')\n",
    "\n",
    "ax = sns.swarmplot(data=data[idx], \n",
    "                   x='value', y='algo',hue='dset',\n",
    "                   order=order,palette=\"muted\", alpha=.7, size=2 , orient='h')\n",
    "\n",
    "sns.pointplot(data=data[idx], \n",
    "                   x='value', y='algo', estimator = np.mean, ci=False,\n",
    "                   order=order,color='k', join=False, markers='.',\n",
    "                legend_out=False, orient='h', scale=.7)\n",
    "\n",
    "ax.legend(loc='center left', bbox_to_anchor=(1, 0.5))\n",
    "\n",
    "plt.xlabel('Correlation on test set')\n",
    "plt.ylabel('Algorithm')\n",
    "plt.xlim((-.1, .7))\n",
    "plt.xticks([0, 0.25, 0.5, .75])\n",
    "\n",
    "sns.despine(offset=10)\n",
    "\n",
    "f.savefig('figures/fig1_correlation.pdf',bbox_inches='tight')\n"
   ]
  },
  {
   "cell_type": "markdown",
   "metadata": {},
   "source": [
    "### Panel 1b: Correlation improvement"
   ]
  },
  {
   "cell_type": "markdown",
   "metadata": {},
   "source": [
    " For the relative correlation improvement, I compute\n",
    " \n",
    " $$ v_i^{algo} = c_i^{algo}-c_i^{stm}$$"
   ]
  },
  {
   "cell_type": "code",
   "execution_count": 10,
   "metadata": {},
   "outputs": [
    {
     "data": {
      "image/png": "[encoded data removed]",
      "text/plain": [
       "<matplotlib.figure.Figure at 0xb7cf390>"
      ]
     },
     "metadata": {},
     "output_type": "display_data"
    }
   ],
   "source": [
    "order2 = gdata['algo'].as_matrix()\n",
    "order2 = order2[order2!='stm'] \n",
    "\n",
    "f = plt.figure(figsize=(8/2.54,6.5/2.54))\n",
    "\n",
    "idx = (data['split']=='test') & (data['measure']=='corr') & (data['algo']!='stm')\n",
    "\n",
    "ax = sns.boxplot(data=data[idx], \n",
    "                   y='algo', x='rel value', hue='indicator',\n",
    "                    order=order2,palette=\"muted\", orient='h', linewidth=.5, fliersize=2)\n",
    "\n",
    "\n",
    "ax.legend(loc='center left', bbox_to_anchor=(1, 0.5))\n",
    "\n",
    "plt.xlabel('Correlation test set')\n",
    "plt.ylabel('Algorithm')\n",
    "\n",
    "plt.xlim((-.25,.35))\n",
    "\n",
    "sns.despine(offset=10)\n",
    "\n",
    "f.savefig('figures/fig1_correlation_imp.pdf',bbox_inches='tight')\n"
   ]
  },
  {
   "cell_type": "code",
   "execution_count": 9,
   "metadata": {},
   "outputs": [
    {
     "data": {
      "text/html": [
       "<div>\n",
       "<style>\n",
       "    .dataframe thead tr:only-child th {\n",
       "        text-align: right;\n",
       "    }\n",
       "\n",
       "    .dataframe thead th {\n",
       "        text-align: left;\n",
       "    }\n",
       "\n",
       "    .dataframe tbody tr th {\n",
       "        vertical-align: top;\n",
       "    }\n",
       "</style>\n",
       "<table border=\"1\" class=\"dataframe\">\n",
       "  <thead>\n",
       "    <tr style=\"text-align: right;\">\n",
       "      <th></th>\n",
       "      <th>algo</th>\n",
       "      <th>split</th>\n",
       "      <th>value</th>\n",
       "      <th>rel value</th>\n",
       "      <th>in bits</th>\n",
       "      <th>rel in bits</th>\n",
       "    </tr>\n",
       "  </thead>\n",
       "  <tbody>\n",
       "    <tr>\n",
       "      <th>4</th>\n",
       "      <td>deneux</td>\n",
       "      <td>test</td>\n",
       "      <td>0.438228</td>\n",
       "      <td>0.081036</td>\n",
       "      <td>0.307652</td>\n",
       "      <td>56.2</td>\n",
       "    </tr>\n",
       "    <tr>\n",
       "      <th>2</th>\n",
       "      <td>chenkov</td>\n",
       "      <td>test</td>\n",
       "      <td>0.437815</td>\n",
       "      <td>0.080623</td>\n",
       "      <td>0.307006</td>\n",
       "      <td>55.9</td>\n",
       "    </tr>\n",
       "    <tr>\n",
       "      <th>20</th>\n",
       "      <td>speiser</td>\n",
       "      <td>test</td>\n",
       "      <td>0.434734</td>\n",
       "      <td>0.077541</td>\n",
       "      <td>0.302214</td>\n",
       "      <td>53.5</td>\n",
       "    </tr>\n",
       "    <tr>\n",
       "      <th>10</th>\n",
       "      <td>mineault</td>\n",
       "      <td>test</td>\n",
       "      <td>0.432472</td>\n",
       "      <td>0.075280</td>\n",
       "      <td>0.298730</td>\n",
       "      <td>51.7</td>\n",
       "    </tr>\n",
       "    <tr>\n",
       "      <th>18</th>\n",
       "      <td>rupprecht</td>\n",
       "      <td>test</td>\n",
       "      <td>0.429115</td>\n",
       "      <td>0.071922</td>\n",
       "      <td>0.293605</td>\n",
       "      <td>49.1</td>\n",
       "    </tr>\n",
       "    <tr>\n",
       "      <th>6</th>\n",
       "      <td>friedrich</td>\n",
       "      <td>test</td>\n",
       "      <td>0.418848</td>\n",
       "      <td>0.061656</td>\n",
       "      <td>0.278293</td>\n",
       "      <td>41.3</td>\n",
       "    </tr>\n",
       "    <tr>\n",
       "      <th>14</th>\n",
       "      <td>pachitariu</td>\n",
       "      <td>test</td>\n",
       "      <td>0.396692</td>\n",
       "      <td>0.039499</td>\n",
       "      <td>0.247020</td>\n",
       "      <td>25.4</td>\n",
       "    </tr>\n",
       "    <tr>\n",
       "      <th>0</th>\n",
       "      <td>bolte</td>\n",
       "      <td>test</td>\n",
       "      <td>0.383376</td>\n",
       "      <td>0.026183</td>\n",
       "      <td>0.229344</td>\n",
       "      <td>16.5</td>\n",
       "    </tr>\n",
       "    <tr>\n",
       "      <th>8</th>\n",
       "      <td>machado</td>\n",
       "      <td>test</td>\n",
       "      <td>0.379407</td>\n",
       "      <td>0.022214</td>\n",
       "      <td>0.224232</td>\n",
       "      <td>13.9</td>\n",
       "    </tr>\n",
       "    <tr>\n",
       "      <th>16</th>\n",
       "      <td>ringach</td>\n",
       "      <td>test</td>\n",
       "      <td>0.362944</td>\n",
       "      <td>0.005751</td>\n",
       "      <td>0.203781</td>\n",
       "      <td>3.5</td>\n",
       "    </tr>\n",
       "    <tr>\n",
       "      <th>22</th>\n",
       "      <td>stm</td>\n",
       "      <td>test</td>\n",
       "      <td>0.357193</td>\n",
       "      <td>NaN</td>\n",
       "      <td>0.196916</td>\n",
       "      <td>0.0</td>\n",
       "    </tr>\n",
       "    <tr>\n",
       "      <th>12</th>\n",
       "      <td>oopsi</td>\n",
       "      <td>test</td>\n",
       "      <td>0.253809</td>\n",
       "      <td>-0.109975</td>\n",
       "      <td>0.096066</td>\n",
       "      <td>-51.2</td>\n",
       "    </tr>\n",
       "  </tbody>\n",
       "</table>\n",
       "</div>"
      ],
      "text/plain": [
       "          algo split     value  rel value   in bits  rel in bits\n",
       "4       deneux  test  0.438228   0.081036  0.307652         56.2\n",
       "2      chenkov  test  0.437815   0.080623  0.307006         55.9\n",
       "20     speiser  test  0.434734   0.077541  0.302214         53.5\n",
       "10    mineault  test  0.432472   0.075280  0.298730         51.7\n",
       "18   rupprecht  test  0.429115   0.071922  0.293605         49.1\n",
       "6    friedrich  test  0.418848   0.061656  0.278293         41.3\n",
       "14  pachitariu  test  0.396692   0.039499  0.247020         25.4\n",
       "0        bolte  test  0.383376   0.026183  0.229344         16.5\n",
       "8      machado  test  0.379407   0.022214  0.224232         13.9\n",
       "16     ringach  test  0.362944   0.005751  0.203781          3.5\n",
       "22         stm  test  0.357193        NaN  0.196916          0.0\n",
       "12       oopsi  test  0.253809  -0.109975  0.096066        -51.2"
      ]
     },
     "execution_count": 9,
     "metadata": {},
     "output_type": "execute_result"
    }
   ],
   "source": [
    "hdata = data[data['measure']=='corr'].groupby(['algo', 'split'])['value','rel value'].mean().reset_index()\n",
    "hdata = hdata[hdata['split']=='test'].sort_values(by='value', ascending=0)\n",
    "hdata['in bits'] = -np.log2(1-hdata['value']**2)\n",
    "\n",
    "stm = hdata.loc[hdata['algo']=='stm','in bits'].as_matrix()\n",
    "hdata['rel in bits'] = np.round(100*(hdata['in bits'] - stm)/stm,1)\n",
    "\n",
    "hdata\n",
    "\n",
    "\n"
   ]
  },
  {
   "cell_type": "markdown",
   "metadata": {},
   "source": [
    "### Panel 1c: Repeated measure ANOVA"
   ]
  },
  {
   "cell_type": "code",
   "execution_count": 12,
   "metadata": {
    "collapsed": true
   },
   "outputs": [],
   "source": [
    "adata = data[(data['split']=='test')& (data['measure']=='corr')].copy()\n",
    "adata = adata[['algo', 'cell', 'dset', 'value']]"
   ]
  },
  {
   "cell_type": "code",
   "execution_count": 13,
   "metadata": {
    "collapsed": true
   },
   "outputs": [],
   "source": [
    "adata['ucell'] = adata['cell'] + adata['dset'] * 10"
   ]
  },
  {
   "cell_type": "code",
   "execution_count": 14,
   "metadata": {
    "collapsed": true
   },
   "outputs": [],
   "source": [
    "%load_ext rpy2.ipython"
   ]
  },
  {
   "cell_type": "code",
   "execution_count": 15,
   "metadata": {
    "collapsed": true
   },
   "outputs": [],
   "source": [
    "import rpy2.robjects as robjects\n",
    "import rpy2.robjects.packages as rpackages\n",
    "from rpy2.robjects.vectors import StrVector\n",
    "from rpy2.robjects.packages import importr\n",
    "from rpy2.robjects import r, pandas2ri\n",
    "\n",
    "pandas2ri.activate()"
   ]
  },
  {
   "cell_type": "code",
   "execution_count": 16,
   "metadata": {
    "collapsed": true
   },
   "outputs": [],
   "source": [
    "r_data = pandas2ri.py2ri(adata)"
   ]
  },
  {
   "cell_type": "code",
   "execution_count": 17,
   "metadata": {
    "scrolled": false
   },
   "outputs": [
    {
     "name": "stdout",
     "output_type": "stream",
     "text": [
      "Anova Table (Type 3 tests)\n",
      "\r\n",
      "\n",
      "\r\n",
      "Response: value\n",
      "\r\n",
      "  Effect           df  MSE         F ges p.value\n",
      "\r\n",
      "1   algo 5.18, 150.25 0.00 40.07 *** .13  <.0001\n",
      "\r\n",
      "\n",
      "\r\n",
      "Sphericity correction method: GG \n",
      "\n"
     ]
    }
   ],
   "source": [
    "afex = importr('afex') \n",
    "model = afex.aov_ez('ucell', 'value', r_data, within='algo')\n",
    "print(model)"
   ]
  },
  {
   "cell_type": "code",
   "execution_count": 18,
   "metadata": {},
   "outputs": [
    {
     "name": "stdout",
     "output_type": "stream",
     "text": [
      "$lsmeans\n",
      "\r\n",
      " algo          lsmean         SE    df  lower.CL  upper.CL\n",
      "\r\n",
      " bolte      0.3845029 0.02543686 36.46 0.3329371 0.4360688\n",
      "\r\n",
      " chenkov    0.4389425 0.02543686 36.46 0.3873767 0.4905083\n",
      "\r\n",
      " deneux     0.4393554 0.02543686 36.46 0.3877896 0.4909213\n",
      "\r\n",
      " friedrich  0.4199755 0.02543686 36.46 0.3684097 0.4715413\n",
      "\r\n",
      " machado    0.3805340 0.02543686 36.46 0.3289682 0.4320998\n",
      "\r\n",
      " mineault   0.4335995 0.02543686 36.46 0.3820336 0.4851653\n",
      "\r\n",
      " oopsi      0.2502015 0.02551516 36.90 0.1984984 0.3019046\n",
      "\r\n",
      " pachitariu 0.3978192 0.02543686 36.46 0.3462534 0.4493850\n",
      "\r\n",
      " ringach    0.3640708 0.02543686 36.46 0.3125050 0.4156366\n",
      "\r\n",
      " rupprecht  0.4302416 0.02543686 36.46 0.3786758 0.4818074\n",
      "\r\n",
      " speiser    0.4358607 0.02543686 36.46 0.3842948 0.4874265\n",
      "\r\n",
      " stm        0.3583198 0.02543686 36.46 0.3067540 0.4098856\n",
      "\r\n",
      "\n",
      "\r\n",
      "Confidence level used: 0.95 \n",
      "\r\n",
      "\n",
      "\r\n",
      "$contrasts\n",
      "\r\n",
      " contrast                    estimate         SE  df t.ratio p.value\n",
      "\r\n",
      " bolte - chenkov        -0.0544395586 0.01147410 339  -4.745  0.0001\n",
      "\r\n",
      " bolte - deneux         -0.0548524955 0.01147410 339  -4.781  0.0001\n",
      "\r\n",
      " bolte - friedrich      -0.0354725336 0.01147410 339  -3.092  0.0582\n",
      "\r\n",
      " bolte - machado         0.0039689230 0.01147410 339   0.346  1.0000\n",
      "\r\n",
      " bolte - mineault       -0.0490965124 0.01147410 339  -4.279  0.0009\n",
      "\r\n",
      " bolte - oopsi           0.1343014510 0.01168086 339  11.498  <.0001\n",
      "\r\n",
      " bolte - pachitariu     -0.0133162563 0.01147410 339  -1.161  1.0000\n",
      "\r\n",
      " bolte - ringach         0.0204321283 0.01147410 339   1.781  1.0000\n",
      "\r\n",
      " bolte - rupprecht      -0.0457386734 0.01147410 339  -3.986  0.0028\n",
      "\r\n",
      " bolte - speiser        -0.0513577148 0.01147410 339  -4.476  0.0004\n",
      "\r\n",
      " bolte - stm             0.0261831526 0.01147410 339   2.282  0.5547\n",
      "\r\n",
      " chenkov - deneux       -0.0004129369 0.01147410 339  -0.036  1.0000\n",
      "\r\n",
      " chenkov - friedrich     0.0189670250 0.01147410 339   1.653  1.0000\n",
      "\r\n",
      " chenkov - machado       0.0584084816 0.01147410 339   5.090  <.0001\n",
      "\r\n",
      " chenkov - mineault      0.0053430462 0.01147410 339   0.466  1.0000\n",
      "\r\n",
      " chenkov - oopsi         0.1887410095 0.01168086 339  16.158  <.0001\n",
      "\r\n",
      " chenkov - pachitariu    0.0411233023 0.01147410 339   3.584  0.0124\n",
      "\r\n",
      " chenkov - ringach       0.0748716869 0.01147410 339   6.525  <.0001\n",
      "\r\n",
      " chenkov - rupprecht     0.0087008852 0.01147410 339   0.758  1.0000\n",
      "\r\n",
      " chenkov - speiser       0.0030818438 0.01147410 339   0.269  1.0000\n",
      "\r\n",
      " chenkov - stm           0.0806227112 0.01147410 339   7.026  <.0001\n",
      "\r\n",
      " deneux - friedrich      0.0193799619 0.01147410 339   1.689  1.0000\n",
      "\r\n",
      " deneux - machado        0.0588214185 0.01147410 339   5.126  <.0001\n",
      "\r\n",
      " deneux - mineault       0.0057559831 0.01147410 339   0.502  1.0000\n",
      "\r\n",
      " deneux - oopsi          0.1891539465 0.01168086 339  16.193  <.0001\n",
      "\r\n",
      " deneux - pachitariu     0.0415362392 0.01147410 339   3.620  0.0112\n",
      "\r\n",
      " deneux - ringach        0.0752846238 0.01147410 339   6.561  <.0001\n",
      "\r\n",
      " deneux - rupprecht      0.0091138221 0.01147410 339   0.794  1.0000\n",
      "\r\n",
      " deneux - speiser        0.0034947807 0.01147410 339   0.305  1.0000\n",
      "\r\n",
      " deneux - stm            0.0810356481 0.01147410 339   7.062  <.0001\n",
      "\r\n",
      " friedrich - machado     0.0394414566 0.01147410 339   3.437  0.0201\n",
      "\r\n",
      " friedrich - mineault   -0.0136239788 0.01147410 339  -1.187  1.0000\n",
      "\r\n",
      " friedrich - oopsi       0.1697739846 0.01168086 339  14.534  <.0001\n",
      "\r\n",
      " friedrich - pachitariu  0.0221562773 0.01147410 339   1.931  1.0000\n",
      "\r\n",
      " friedrich - ringach     0.0559046619 0.01147410 339   4.872  0.0001\n",
      "\r\n",
      " friedrich - rupprecht  -0.0102661398 0.01147410 339  -0.895  1.0000\n",
      "\r\n",
      " friedrich - speiser    -0.0158851812 0.01147410 339  -1.384  1.0000\n",
      "\r\n",
      " friedrich - stm         0.0616556862 0.01147410 339   5.373  <.0001\n",
      "\r\n",
      " machado - mineault     -0.0530654354 0.01147410 339  -4.625  0.0002\n",
      "\r\n",
      " machado - oopsi         0.1303325280 0.01168086 339  11.158  <.0001\n",
      "\r\n",
      " machado - pachitariu   -0.0172851793 0.01147410 339  -1.506  1.0000\n",
      "\r\n",
      " machado - ringach       0.0164632053 0.01147410 339   1.435  1.0000\n",
      "\r\n",
      " machado - rupprecht    -0.0497075964 0.01147410 339  -4.332  0.0007\n",
      "\r\n",
      " machado - speiser      -0.0553266378 0.01147410 339  -4.822  0.0001\n",
      "\r\n",
      " machado - stm           0.0222142296 0.01147410 339   1.936  1.0000\n",
      "\r\n",
      " mineault - oopsi        0.1833979634 0.01168086 339  15.701  <.0001\n",
      "\r\n",
      " mineault - pachitariu   0.0357802561 0.01147410 339   3.118  0.0553\n",
      "\r\n",
      " mineault - ringach      0.0695286407 0.01147410 339   6.060  <.0001\n",
      "\r\n",
      " mineault - rupprecht    0.0033578390 0.01147410 339   0.293  1.0000\n",
      "\r\n",
      " mineault - speiser     -0.0022612024 0.01147410 339  -0.197  1.0000\n",
      "\r\n",
      " mineault - stm          0.0752796650 0.01147410 339   6.561  <.0001\n",
      "\r\n",
      " oopsi - pachitariu     -0.1476177073 0.01168086 339 -12.638  <.0001\n",
      "\r\n",
      " oopsi - ringach        -0.1138693226 0.01168086 339  -9.748  <.0001\n",
      "\r\n",
      " oopsi - rupprecht      -0.1800401243 0.01168086 339 -15.413  <.0001\n",
      "\r\n",
      " oopsi - speiser        -0.1856591657 0.01168086 339 -15.894  <.0001\n",
      "\r\n",
      " oopsi - stm            -0.1081182984 0.01168086 339  -9.256  <.0001\n",
      "\r\n",
      " pachitariu - ringach    0.0337483846 0.01147410 339   2.941  0.0908\n",
      "\r\n",
      " pachitariu - rupprecht -0.0324224171 0.01147410 339  -2.826  0.1249\n",
      "\r\n",
      " pachitariu - speiser   -0.0380414585 0.01147410 339  -3.315  0.0294\n",
      "\r\n",
      " pachitariu - stm        0.0394994089 0.01147410 339   3.442  0.0201\n",
      "\r\n",
      " ringach - rupprecht    -0.0661708017 0.01147410 339  -5.767  <.0001\n",
      "\r\n",
      " ringach - speiser      -0.0717898431 0.01147410 339  -6.257  <.0001\n",
      "\r\n",
      " ringach - stm           0.0057510243 0.01147410 339   0.501  1.0000\n",
      "\r\n",
      " rupprecht - speiser    -0.0056190414 0.01147410 339  -0.490  1.0000\n",
      "\r\n",
      " rupprecht - stm         0.0719218259 0.01147410 339   6.268  <.0001\n",
      "\r\n",
      " speiser - stm           0.0775408674 0.01147410 339   6.758  <.0001\n",
      "\r\n",
      "\n",
      "\r\n",
      "P value adjustment: holm method for 66 tests \n",
      "\r\n",
      "\n",
      "\n"
     ]
    }
   ],
   "source": [
    "lsm  = importr('lsmeans')\n",
    "pairwise = lsm.lsmeans(model, \"algo\", contr=\"pairwise\", adjust=\"holm\")\n",
    "print(pairwise)"
   ]
  },
  {
   "cell_type": "code",
   "execution_count": 19,
   "metadata": {},
   "outputs": [
    {
     "data": {
      "image/png": "[encoded data removed]",
      "text/plain": [
       "<matplotlib.figure.Figure at 0xb776470>"
      ]
     },
     "metadata": {},
     "output_type": "display_data"
    }
   ],
   "source": [
    "# I am sure there is a better way to do this and directly get the data back, \n",
    "# but I just manually entered them into the excel sheet loaded below\n",
    "\n",
    "pvalues = pd.read_excel('figures/pairwise_comp.xls')\n",
    "\n",
    "\n",
    "f = plt.figure(figsize=(8/2.54,6.5/2.54))\n",
    "\n",
    "sns.heatmap(pvalues, vmin=0, vmax=.2)\n",
    "\n",
    "#sns.despine(offset=10)\n",
    "\n",
    "f.savefig('figures/pairwise.pdf',bbox_inches='tight')\n"
   ]
  },
  {
   "cell_type": "markdown",
   "metadata": {},
   "source": [
    "### Panel 1d: Overfitting"
   ]
  },
  {
   "cell_type": "code",
   "execution_count": 9,
   "metadata": {},
   "outputs": [
    {
     "data": {
      "image/png": "[encoded data removed]",
      "text/plain": [
       "<matplotlib.figure.Figure at 0xb8e12e8>"
      ]
     },
     "metadata": {},
     "output_type": "display_data"
    }
   ],
   "source": [
    "hdata = data[data['measure']=='corr'].groupby(['algo', 'split'])['value','rel value'].mean().reset_index()\n",
    "\n",
    "sup = [True, True, False, False, True, True, False, False, False, True, True, False]\n",
    "train = hdata[hdata.split=='train']['value'].as_matrix()\n",
    "test = hdata[hdata.split=='test']['value'].as_matrix()\n",
    "\n",
    "df = pd.DataFrame({'train': train-np.min(train), 'test': test-np.min(test), 'sup': sup})\n",
    "#df = pd.DataFrame({'train': train-train[-1], 'test': test-, 'sup': sup})\n",
    "\n",
    "#f = plt.figure(figsize=(12/2.54,6.5/2.54))\n",
    "\n",
    "g = sns.pairplot(data=df, x_vars='train', y_vars='test', hue='sup', size=6/2.54, aspect=1,plot_kws={\"s\": 15})\n",
    "#plt.scatter(train-np.min(train), test-np.min(test), c=np.double(sup), s=10)\n",
    "plt.xlim([0.05,.25])\n",
    "plt.ylim([0.05,.25])\n",
    "plt.xticks([0.1,.15,.2])\n",
    "plt.yticks([0.1,.15,.2])\n",
    "\n",
    "g._legend.remove()\n",
    "\n",
    "sns.despine(offset=10)\n",
    "plt.plot([0,0.5],[0, 0.5], ls=\"--\", c=\".3\")\n",
    "\n",
    "g.savefig('figures/fig1_overfit.pdf',bbox_inches='tight')\n",
    "\n"
   ]
  },
  {
   "cell_type": "code",
   "execution_count": 13,
   "metadata": {},
   "outputs": [
    {
     "data": {
      "text/html": [
       "<div>\n",
       "<style>\n",
       "    .dataframe thead tr:only-child th {\n",
       "        text-align: right;\n",
       "    }\n",
       "\n",
       "    .dataframe thead th {\n",
       "        text-align: left;\n",
       "    }\n",
       "\n",
       "    .dataframe tbody tr th {\n",
       "        vertical-align: top;\n",
       "    }\n",
       "</style>\n",
       "<table border=\"1\" class=\"dataframe\">\n",
       "  <thead>\n",
       "    <tr style=\"text-align: right;\">\n",
       "      <th></th>\n",
       "      <th>algo</th>\n",
       "      <th>split</th>\n",
       "      <th>value</th>\n",
       "      <th>rel value</th>\n",
       "    </tr>\n",
       "  </thead>\n",
       "  <tbody>\n",
       "    <tr>\n",
       "      <th>1</th>\n",
       "      <td>bolte</td>\n",
       "      <td>train</td>\n",
       "      <td>0.506343</td>\n",
       "      <td>0.103927</td>\n",
       "    </tr>\n",
       "    <tr>\n",
       "      <th>3</th>\n",
       "      <td>chenkov</td>\n",
       "      <td>train</td>\n",
       "      <td>0.472741</td>\n",
       "      <td>0.070326</td>\n",
       "    </tr>\n",
       "    <tr>\n",
       "      <th>5</th>\n",
       "      <td>deneux</td>\n",
       "      <td>train</td>\n",
       "      <td>0.482384</td>\n",
       "      <td>0.079968</td>\n",
       "    </tr>\n",
       "    <tr>\n",
       "      <th>7</th>\n",
       "      <td>friedrich</td>\n",
       "      <td>train</td>\n",
       "      <td>0.475197</td>\n",
       "      <td>0.072781</td>\n",
       "    </tr>\n",
       "    <tr>\n",
       "      <th>9</th>\n",
       "      <td>machado</td>\n",
       "      <td>train</td>\n",
       "      <td>0.427140</td>\n",
       "      <td>0.024724</td>\n",
       "    </tr>\n",
       "    <tr>\n",
       "      <th>11</th>\n",
       "      <td>mineault</td>\n",
       "      <td>train</td>\n",
       "      <td>0.537401</td>\n",
       "      <td>0.134985</td>\n",
       "    </tr>\n",
       "    <tr>\n",
       "      <th>13</th>\n",
       "      <td>oopsi</td>\n",
       "      <td>train</td>\n",
       "      <td>0.296398</td>\n",
       "      <td>-0.106242</td>\n",
       "    </tr>\n",
       "    <tr>\n",
       "      <th>15</th>\n",
       "      <td>pachitariu</td>\n",
       "      <td>train</td>\n",
       "      <td>0.437908</td>\n",
       "      <td>0.035493</td>\n",
       "    </tr>\n",
       "    <tr>\n",
       "      <th>17</th>\n",
       "      <td>ringach</td>\n",
       "      <td>train</td>\n",
       "      <td>0.399159</td>\n",
       "      <td>-0.003257</td>\n",
       "    </tr>\n",
       "    <tr>\n",
       "      <th>19</th>\n",
       "      <td>rupprecht</td>\n",
       "      <td>train</td>\n",
       "      <td>0.489999</td>\n",
       "      <td>0.087584</td>\n",
       "    </tr>\n",
       "    <tr>\n",
       "      <th>21</th>\n",
       "      <td>speiser</td>\n",
       "      <td>train</td>\n",
       "      <td>0.472973</td>\n",
       "      <td>0.070557</td>\n",
       "    </tr>\n",
       "    <tr>\n",
       "      <th>23</th>\n",
       "      <td>stm</td>\n",
       "      <td>train</td>\n",
       "      <td>0.402416</td>\n",
       "      <td>NaN</td>\n",
       "    </tr>\n",
       "  </tbody>\n",
       "</table>\n",
       "</div>"
      ],
      "text/plain": [
       "          algo  split     value  rel value\n",
       "1        bolte  train  0.506343   0.103927\n",
       "3      chenkov  train  0.472741   0.070326\n",
       "5       deneux  train  0.482384   0.079968\n",
       "7    friedrich  train  0.475197   0.072781\n",
       "9      machado  train  0.427140   0.024724\n",
       "11    mineault  train  0.537401   0.134985\n",
       "13       oopsi  train  0.296398  -0.106242\n",
       "15  pachitariu  train  0.437908   0.035493\n",
       "17     ringach  train  0.399159  -0.003257\n",
       "19   rupprecht  train  0.489999   0.087584\n",
       "21     speiser  train  0.472973   0.070557\n",
       "23         stm  train  0.402416        NaN"
      ]
     },
     "execution_count": 13,
     "metadata": {},
     "output_type": "execute_result"
    }
   ],
   "source": [
    "hdata[hdata.split=='train']\n"
   ]
  },
  {
   "cell_type": "markdown",
   "metadata": {},
   "source": [
    "## Figure 2: Example responses\n"
   ]
  },
  {
   "cell_type": "code",
   "execution_count": 22,
   "metadata": {},
   "outputs": [
    {
     "data": {
      "image/png": "[encoded data removed]",
      "text/plain": [
       "<matplotlib.figure.Figure at 0xbc55be0>"
      ]
     },
     "metadata": {},
     "output_type": "display_data"
    }
   ],
   "source": [
    "# here will be some spike trains\n",
    "\n",
    "algos =  ['stm','chenkov', 'deneux', 'friedrich', 'machado', 'mineault', \n",
    "               'pachitariu', 'ringach', 'rupprecht', 'bolte', 'speiser', 'oopsi']\n",
    "\n",
    "f = plt.figure(figsize=(5/2.54,10/2.54))\n",
    "\n",
    "# for paper 2 examples\n",
    "dset = '3.test'\n",
    "neuron = '2'\n",
    "tw = np.arange(2000,5000)\n",
    "\n",
    "dset = '1.test'\n",
    "neuron = '3'\n",
    "tw = np.arange(14000,17000)\n",
    "\n",
    "t = np.round((tw[-1]-tw[0])/4)\n",
    "t =np.arange(0,t*25,25)/1000\n",
    "\n",
    "file = 'T:/data/spikefinder/truth/{}.spikes.csv'.format(dset)\n",
    "spikes = se._downsample(se.load(file).loc[tw,neuron].as_matrix(),4)\n",
    "\n",
    "file = 'T:/data/spikefinder/truth/{}.calcium.csv'.format(dset)\n",
    "calcium = se._downsample(se.load(file).loc[tw,neuron].as_matrix(),4)\n",
    "\n",
    "calcium = (calcium-np.min(calcium,axis=0))/(np.max(calcium,axis=0)-np.min(calcium,axis=0))\n",
    "\n",
    "sp = sns.color_palette()\n",
    "\n",
    "ax = plt.plot(t,.6*spikes-2.5,color='k', linewidth=.7)  \n",
    "plt.plot(t,2*calcium,color='k', linewidth=.4) \n",
    "\n",
    "ticks = np.zeros_like(order)\n",
    "lab = []\n",
    "\n",
    "for a, algo in enumerate(order): \n",
    "    file = 'T:/data/spikefinder/{}/{}.spikes.csv'.format(algo, dset)\n",
    "    pred = se.load(file)\n",
    "            \n",
    "    pred = se._downsample(pred.loc[tw,neuron].as_matrix(),4)\n",
    "    \n",
    "    id = (data['measure']==\n",
    "      'corr') & (data['dset']==\n",
    "                 np.int32(dset[0])) & (data['cell']==\n",
    "                                       np.int32(neuron)) & (data['split']==\n",
    "                                       'test') & (data['algo']==\n",
    "                                       algo) \n",
    "    \n",
    "    c = np.round(data.loc[id,'value'].as_matrix(),2)\n",
    "    \n",
    "    pred = (pred-np.min(pred,axis=0))/(np.max(pred,axis=0)-np.min(pred,axis=0))\n",
    "    \n",
    "    plt.plot(t,pred-1.2*a-4,color='k', linewidth=.4)\n",
    "    \n",
    "    ticks[a] = -1.2*a-4\n",
    "    \n",
    "    plt.text(1.05*plt.xlim()[1],-1.2*a-4, '{}'.format(c[0]))\n",
    "    \n",
    "    \n",
    "plt.yticks(ticks,order)\n",
    "plt.xticks([0, 5, 10, 15])\n",
    "plt.xlabel('Time (s)')\n",
    "\n",
    "sns.despine(offset=5)\n",
    "\n",
    "f.savefig('figures/fig1_ogb_example.pdf',bbox_inches='tight', dpi=300)\n",
    "\n"
   ]
  },
  {
   "cell_type": "markdown",
   "metadata": {},
   "source": [
    "### Panel c: Correlation matrix\n"
   ]
  },
  {
   "cell_type": "markdown",
   "metadata": {},
   "source": [
    "We compute the correlation matrix between predictions made by the different algorithms"
   ]
  },
  {
   "cell_type": "code",
   "execution_count": 23,
   "metadata": {},
   "outputs": [
    {
     "name": "stdout",
     "output_type": "stream",
     "text": [
      "deneux\n"
     ]
    },
    {
     "name": "stderr",
     "output_type": "stream",
     "text": [
      "C:\\Users\\pberens\\Anaconda3\\lib\\site-packages\\numpy\\lib\\function_base.py:3003: RuntimeWarning: invalid value encountered in true_divide\n",
      "  c /= stddev[:, None]\n",
      "C:\\Users\\pberens\\Anaconda3\\lib\\site-packages\\numpy\\lib\\function_base.py:3004: RuntimeWarning: invalid value encountered in true_divide\n",
      "  c /= stddev[None, :]\n"
     ]
    },
    {
     "name": "stdout",
     "output_type": "stream",
     "text": [
      "chenkov\n",
      "speiser\n",
      "mineault\n",
      "rupprecht\n",
      "friedrich\n",
      "pachitariu\n",
      "bolte\n",
      "machado\n",
      "ringach\n",
      "stm\n",
      "oopsi\n"
     ]
    }
   ],
   "source": [
    "dsets = ['1.test', '2.test', '3.test', '4.test', '5.test']\n",
    "\n",
    "algos =  ['stm','chenkov', 'deneux', 'friedrich', 'machado', 'mineault', \n",
    "               'pachitariu', 'ringach', 'rupprecht', 'bolte', 'speiser', 'oopsi']\n",
    "\n",
    "\n",
    "c = np.zeros((len(algos), len(algos),33))\n",
    "\n",
    "\n",
    "\n",
    "\n",
    "for a, algo in enumerate(order): \n",
    "    print(algo)\n",
    "    for b, blgo in enumerate(order):\n",
    "        cc = 0\n",
    "        \n",
    "        if b>a:\n",
    "        \n",
    "            for d, dset in enumerate(dsets):\n",
    "                file = 'T:/data/spikefinder/{}/{}.spikes.csv'.format(algo, dset)\n",
    "                pred1 = se.load(file)\n",
    "\n",
    "                if algo=='machado':\n",
    "                    pred1 = pred1.iloc[:,1::]\n",
    "\n",
    "                file = 'T:/data/spikefinder/{}/{}.spikes.csv'.format(blgo, dset)\n",
    "                pred2 = se.load(file)\n",
    "\n",
    "                if blgo=='machado':\n",
    "                    pred2 = pred2.iloc[:,1::]\n",
    "\n",
    "                for col in pred1:\n",
    "                    x = pred1[col]\n",
    "                    y = pred2[col]\n",
    "\n",
    "                    naninds = np.isnan(x) | np.isnan(y)\n",
    "                    x = x[~naninds]\n",
    "                    y = y[~naninds]\n",
    "\n",
    "                    x = se._downsample(x,4)\n",
    "                    y = se._downsample(y,4)\n",
    "\n",
    "                    ml = min([len(x),len(y)])\n",
    "\n",
    "                    x = x[0:ml]\n",
    "                    y = y[0:ml]\n",
    "\n",
    "                    c[a,b, cc] = np.corrcoef(x,y)[0,1]\n",
    "                    cc +=1 \n",
    "            else:\n",
    "                    c[d,a,b] = np.NaN\n",
    "\n",
    "   \n",
    "    \n",
    "    \n",
    "\n"
   ]
  },
  {
   "cell_type": "code",
   "execution_count": 84,
   "metadata": {},
   "outputs": [
    {
     "data": {
      "image/png": "[encoded data removed]",
      "text/plain": [
       "<matplotlib.figure.Figure at 0xb974a20>"
      ]
     },
     "metadata": {},
     "output_type": "display_data"
    }
   ],
   "source": [
    "f = plt.figure(figsize=(8/2.54,6.5/2.54))\n",
    "\n",
    "ax = sns.heatmap(np.nanmean(c, axis=2), vmin=0, vmax=1, xticklabels=order, yticklabels=order,cmap=\"YlGnBu\")\n",
    "\n",
    "f.savefig('figures/fig1_algo_corr.pdf',bbox_inches='tight', dpi=300)"
   ]
  },
  {
   "cell_type": "markdown",
   "metadata": {},
   "source": [
    "Compute the average correlation among the outputs of the top group"
   ]
  },
  {
   "cell_type": "code",
   "execution_count": 33,
   "metadata": {},
   "outputs": [
    {
     "name": "stdout",
     "output_type": "stream",
     "text": [
      "0.822830121698\n",
      "0.0365440274588\n"
     ]
    }
   ],
   "source": [
    "C = np.nanmean(c,axis=2)[0:6,0:6]\n",
    "C[C==0] = np.NaN\n",
    "print(np.nanmean(C.flatten()))\n",
    "print(np.nanstd(C.flatten()))\n"
   ]
  },
  {
   "cell_type": "markdown",
   "metadata": {},
   "source": [
    "## Ensemble method"
   ]
  },
  {
   "cell_type": "markdown",
   "metadata": {},
   "source": [
    "We test whether we can get higher correlation by averaging the predictions of the first 6 methods by using their average."
   ]
  },
  {
   "cell_type": "code",
   "execution_count": 80,
   "metadata": {},
   "outputs": [
    {
     "name": "stdout",
     "output_type": "stream",
     "text": [
      "1.test\n",
      "2.test\n",
      "3.test\n",
      "4.test\n",
      "5.test\n"
     ]
    }
   ],
   "source": [
    "dsets = ['1.test', '2.test', '3.test', '4.test', '5.test']\n",
    "\n",
    "algos =  ['chenkov', 'deneux', 'friedrich', 'mineault', \n",
    "               'rupprecht', 'speiser']\n",
    "\n",
    "ce = np.zeros((33,1))\n",
    "\n",
    "n = 0\n",
    "\n",
    "for d, dset in enumerate(dsets):\n",
    "    print(dset)\n",
    "    \n",
    "    file = 'T:/data/spikefinder/truth/{}.spikes.csv'.format(dset)\n",
    "    spikes = se.load(file)\n",
    "    \n",
    "    for col in spikes: \n",
    "        y = spikes[col]\n",
    "        ndx = np.isnan(y)\n",
    "        y = se._downsample(y[~ndx],4)\n",
    "        y = y[0:len(y)-5]\n",
    "\n",
    "        X = np.zeros((len(y),len(algos)))\n",
    "        \n",
    "        \n",
    "        for a, algo in enumerate(algos): \n",
    "\n",
    "            file = 'T:/data/spikefinder/{}/{}.spikes.csv'.format(algo, dset)\n",
    "            pred1 = se.load(file)\n",
    "\n",
    "            if algo=='machado':\n",
    "                pred1 = pred1.iloc[:,1::]\n",
    "\n",
    "            x = pred1[col]\n",
    "            x = se._downsample(x[~ndx],4)\n",
    "\n",
    "            X[:,a] = x[0:len(y)]\n",
    "\n",
    "        X = (X-np.mean(X,axis=0))/np.std(X,axis=0)\n",
    "        ex = np.nanmean(X,axis=1)\n",
    "        \n",
    "        ce[n] = np.corrcoef(ex,y)[0,1]\n",
    "        n += 1\n",
    "            \n",
    "\n"
   ]
  },
  {
   "cell_type": "code",
   "execution_count": 87,
   "metadata": {},
   "outputs": [
    {
     "name": "stdout",
     "output_type": "stream",
     "text": [
      "0.443567550884\n",
      "0.14980001966\n"
     ]
    }
   ],
   "source": [
    "print(np.mean(ce))\n",
    "print(np.std(ce))"
   ]
  }
 ],
 "metadata": {
  "kernelspec": {
   "display_name": "Python [conda root]",
   "language": "python",
   "name": "conda-root-py"
  },
  "language_info": {
   "codemirror_mode": {
    "name": "ipython",
    "version": 3
   },
   "file_extension": ".py",
   "mimetype": "text/x-python",
   "name": "python",
   "nbconvert_exporter": "python",
   "pygments_lexer": "ipython3",
   "version": "3.5.3"
  }
 },
 "nbformat": 4,
 "nbformat_minor": 2
}
